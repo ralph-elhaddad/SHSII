{
 "cells": [
  {
   "cell_type": "markdown",
   "metadata": {},
   "source": [
    "## Country flags"
   ]
  },
  {
   "cell_type": "markdown",
   "metadata": {},
   "source": [
    "### Import packages"
   ]
  },
  {
   "cell_type": "code",
   "execution_count": 1,
   "metadata": {},
   "outputs": [],
   "source": [
    "import numpy as np\n",
    "\n",
    "import requests\n",
    "from bs4 import BeautifulSoup\n",
    "from PIL import Image\n",
    "from io import BytesIO\n",
    "from cairosvg import svg2png\n",
    "\n",
    "import matplotlib.pyplot as plt\n",
    "import seaborn as sns\n",
    "import colorsys"
   ]
  },
  {
   "cell_type": "markdown",
   "metadata": {},
   "source": [
    "### Scrape image sources from wikipedia article"
   ]
  },
  {
   "cell_type": "code",
   "execution_count": 2,
   "metadata": {},
   "outputs": [
    {
     "data": {
      "text/plain": [
       "<img alt=\"\" class=\"thumbborder\" data-file-height=\"650\" data-file-width=\"1235\" decoding=\"async\" height=\"12\" src=\"//upload.wikimedia.org/wikipedia/en/thumb/a/a4/Flag_of_the_United_States.svg/23px-Flag_of_the_United_States.svg.png\" srcset=\"//upload.wikimedia.org/wikipedia/en/thumb/a/a4/Flag_of_the_United_States.svg/35px-Flag_of_the_United_States.svg.png 1.5x, //upload.wikimedia.org/wikipedia/en/thumb/a/a4/Flag_of_the_United_States.svg/46px-Flag_of_the_United_States.svg.png 2x\" width=\"23\"/>"
      ]
     },
     "execution_count": 2,
     "metadata": {},
     "output_type": "execute_result"
    }
   ],
   "source": [
    "URL = 'https://en.wikipedia.org/wiki/List_of_countries_and_dependencies_by_population'\n",
    "page = requests.get(URL)\n",
    "soup = BeautifulSoup(page.content, 'html.parser')\n",
    "\n",
    "sources = soup.find_all('img', class_='thumbborder')\n",
    "sources[2]"
   ]
  },
  {
   "cell_type": "code",
   "execution_count": 3,
   "metadata": {},
   "outputs": [],
   "source": [
    "sources = soup.find_all('tbody')\n",
    "entries = sources[0].find_all('tr')[2:]\n",
    "entry = entries[3]"
   ]
  },
  {
   "cell_type": "markdown",
   "metadata": {},
   "source": [
    "### Extract the country information from the scraped source data"
   ]
  },
  {
   "cell_type": "code",
   "execution_count": 4,
   "metadata": {},
   "outputs": [],
   "source": [
    "def get_flag_url(source):\n",
    "    src = str(source)\n",
    "    pos_start = src.find(\"upload.wikimedia.org/\")\n",
    "    pos_end = src.find(\".svg.png\")\n",
    "    url = 'https://' + src[pos_start:pos_end+len(\".svg.png\")]\n",
    "    return url"
   ]
  },
  {
   "cell_type": "code",
   "execution_count": 5,
   "metadata": {},
   "outputs": [],
   "source": [
    "def get_country_name(entry):\n",
    "    useables = entry.find_all('td')[0:3]\n",
    "    country_info = useables[0].find_all('a')\n",
    "    src = str(country_info)\n",
    "    pos_start = src.find('\">') + 2\n",
    "    pos_end = src.find('</a>')\n",
    "    return src[pos_start:pos_end]"
   ]
  },
  {
   "cell_type": "code",
   "execution_count": 6,
   "metadata": {},
   "outputs": [],
   "source": [
    "def get_continent(entry):\n",
    "    useables = entry.find_all('td')[0:3]\n",
    "    src = str(useables)\n",
    "    continents = ['Asia', 'Europe', 'Americas', 'Africa', 'Oceania']\n",
    "    for continent in continents:\n",
    "        if continent in src:\n",
    "            return continent"
   ]
  },
  {
   "cell_type": "code",
   "execution_count": 7,
   "metadata": {},
   "outputs": [],
   "source": [
    "def get_population(entry):\n",
    "    useables = entry.find_all('td')[0:3]\n",
    "    population_info = useables[2]\n",
    "    src = str(population_info)\n",
    "    pos_start = src.find('\">') + 2\n",
    "    pos_end = src.find('</td>')\n",
    "    return src[pos_start:pos_end]"
   ]
  },
  {
   "cell_type": "markdown",
   "metadata": {},
   "source": [
    "Extracting important information from the data"
   ]
  },
  {
   "cell_type": "code",
   "execution_count": 8,
   "metadata": {},
   "outputs": [],
   "source": [
    "names = [get_country_name(entry) for entry in entries]\n",
    "continents = [get_continent(entry) for entry in entries]\n",
    "populations = [get_population(entry) for entry in entries]\n",
    "URLs = [get_flag_url(entry) for entry in entries]"
   ]
  },
  {
   "cell_type": "code",
   "execution_count": 9,
   "metadata": {},
   "outputs": [],
   "source": [
    "def modify_URL(URL):\n",
    "    URL = URL.replace('/thumb', '')\n",
    "    return URL[:URL.rfind('/')]\n",
    "\n",
    "svg_URLs = [modify_URL(URL) for URL in URLs]"
   ]
  },
  {
   "cell_type": "code",
   "execution_count": 21,
   "metadata": {},
   "outputs": [],
   "source": [
    "def get_flag_filename(URL):\n",
    "    return URL[URL.rfind('/')+1:-4]\n",
    "\n",
    "flag_filenames = [get_flag_filename(URL) for URL in svg_URLs]\n",
    "\n",
    "import pickle\n",
    "with open('filenames.pkl', 'wb') as f:\n",
    "    pickle.dump(flag_filenames, f)"
   ]
  },
  {
   "cell_type": "markdown",
   "metadata": {},
   "source": [
    "Quickly verifying correctness of scraped data"
   ]
  },
  {
   "cell_type": "code",
   "execution_count": 12,
   "metadata": {},
   "outputs": [
    {
     "name": "stdout",
     "output_type": "stream",
     "text": [
      "241 241 241 241\n",
      "China Asia 1,412,600,000\n",
      "Italy Europe 58,983,122\n",
      "Nepal Asia 29,192,480\n",
      "Zimbabwe Africa 15,790,716\n",
      "Belarus Europe 9,349,645\n",
      "Palestine Asia 5,227,193\n",
      "Botswana Africa 2,410,338\n",
      "Montenegro Europe 621,306\n",
      "Grenada Americas 113,000\n",
      "Liechtenstein Europe 39,151\n"
     ]
    }
   ],
   "source": [
    "print(len(names), len(continents), len(populations), len(URLs))\n",
    "for i in 24*np.arange(10):\n",
    "    print(names[i], continents[i], populations[i])"
   ]
  },
  {
   "cell_type": "markdown",
   "metadata": {},
   "source": [
    "### Read the images from the URLs and convert them to RGB scale"
   ]
  },
  {
   "cell_type": "code",
   "execution_count": 13,
   "metadata": {},
   "outputs": [],
   "source": [
    "def get_RGB_colors_from_url(URL):\n",
    "    response = requests.get(URL)\n",
    "    img = Image.open(BytesIO(response.content))\n",
    "    RGB_image = img.convert('RGB')\n",
    "    width, height = RGB_image.size\n",
    "    RGB_color = np.empty((width, height, 3))\n",
    "    for i in range(width):\n",
    "        for j in range(height):\n",
    "            RGB_color[i, j, :] = RGB_image.getpixel((i, j))\n",
    "    return RGB_color"
   ]
  },
  {
   "cell_type": "code",
   "execution_count": 14,
   "metadata": {},
   "outputs": [
    {
     "name": "stderr",
     "output_type": "stream",
     "text": [
      "C:\\Users\\Fabio\\Anaconda3\\lib\\site-packages\\PIL\\Image.py:962: UserWarning: Palette images with Transparency expressed in bytes should be converted to RGBA images\n",
      "  warnings.warn(\n"
     ]
    }
   ],
   "source": [
    "RGB_colors = [get_RGB_colors_from_url(URL) for URL in URLs]"
   ]
  },
  {
   "cell_type": "code",
   "execution_count": 141,
   "metadata": {},
   "outputs": [],
   "source": [
    "def get_svg_image(url):\n",
    "    svg = requests.get(url).text\n",
    "    png = svg2png(bytestring=svg)\n",
    "    img = Image.open(BytesIO(png)).convert('RGBA')\n",
    "    return img\n",
    "\n",
    "def RGB_to_array(img):\n",
    "    width, height = img.size\n",
    "    RGBA_array = np.empty((width, height, 4), dtype=np.uint8)\n",
    "    for i in range(width):\n",
    "        for j in range(height):\n",
    "            RGBA_array[i, j, :] = img.getpixel((i, j))\n",
    "    return RGBA_array"
   ]
  },
  {
   "cell_type": "code",
   "execution_count": 130,
   "metadata": {},
   "outputs": [],
   "source": [
    "flags1 = [get_svg_image(svg_URL) for svg_URL in svg_URLs[:100]]\n",
    "RGBA_flags1 = [RGB_to_array(flag) for flag in flags1]"
   ]
  },
  {
   "cell_type": "code",
   "execution_count": 143,
   "metadata": {},
   "outputs": [
    {
     "name": "stdout",
     "output_type": "stream",
     "text": [
      "https://upload.wikimedia.org/wikipedia/commons/1/17/Flag_of_Sierra_Leone.svg\n",
      "https://upload.wikimedia.org/wikipedia/commons/6/68/Flag_of_Togo.svg\n",
      "https://upload.wikimedia.org/wikipedia/commons/5/5b/Flag_of_Hong_Kong.svg\n",
      "https://upload.wikimedia.org/wikipedia/commons/2/27/Flag_of_Paraguay.svg\n",
      "https://upload.wikimedia.org/wikipedia/commons/5/56/Flag_of_Laos.svg\n",
      "https://upload.wikimedia.org/wikipedia/commons/0/05/Flag_of_Libya.svg\n",
      "https://upload.wikimedia.org/wikipedia/commons/f/ff/Flag_of_Serbia.svg\n",
      "https://upload.wikimedia.org/wikipedia/commons/3/34/Flag_of_El_Salvador.svg\n",
      "https://upload.wikimedia.org/wikipedia/commons/5/59/Flag_of_Lebanon.svg\n",
      "https://upload.wikimedia.org/wikipedia/commons/c/c7/Flag_of_Kyrgyzstan.svg\n",
      "https://upload.wikimedia.org/wikipedia/commons/1/19/Flag_of_Nicaragua.svg\n",
      "https://upload.wikimedia.org/wikipedia/commons/9/9a/Flag_of_Bulgaria.svg\n",
      "https://upload.wikimedia.org/wikipedia/commons/1/1b/Flag_of_Turkmenistan.svg\n",
      "https://upload.wikimedia.org/wikipedia/commons/9/9c/Flag_of_Denmark.svg\n",
      "https://upload.wikimedia.org/wikipedia/commons/9/92/Flag_of_the_Republic_of_the_Congo.svg\n",
      "https://upload.wikimedia.org/wikipedia/commons/6/6f/Flag_of_the_Central_African_Republic.svg\n",
      "https://upload.wikimedia.org/wikipedia/commons/b/bc/Flag_of_Finland.svg\n",
      "https://upload.wikimedia.org/wikipedia/commons/4/48/Flag_of_Singapore.svg\n",
      "https://upload.wikimedia.org/wikipedia/commons/e/e6/Flag_of_Slovakia.svg\n",
      "https://upload.wikimedia.org/wikipedia/commons/d/d9/Flag_of_Norway.svg\n",
      "https://upload.wikimedia.org/wikipedia/commons/0/00/Flag_of_Palestine.svg\n",
      "https://upload.wikimedia.org/wikipedia/commons/f/f2/Flag_of_Costa_Rica.svg\n",
      "https://upload.wikimedia.org/wikipedia/commons/3/3e/Flag_of_New_Zealand.svg\n",
      "https://upload.wikimedia.org/wikipedia/commons/4/45/Flag_of_Ireland.svg\n",
      "https://upload.wikimedia.org/wikipedia/commons/a/aa/Flag_of_Kuwait.svg\n",
      "https://upload.wikimedia.org/wikipedia/commons/b/b8/Flag_of_Liberia.svg\n",
      "https://upload.wikimedia.org/wikipedia/commons/d/dd/Flag_of_Oman.svg\n",
      "https://upload.wikimedia.org/wikipedia/commons/a/ab/Flag_of_Panama.svg\n",
      "https://upload.wikimedia.org/wikipedia/commons/4/43/Flag_of_Mauritania.svg\n",
      "https://upload.wikimedia.org/wikipedia/commons/1/1b/Flag_of_Croatia.svg\n",
      "https://upload.wikimedia.org/wikipedia/commons/0/0f/Flag_of_Georgia.svg\n",
      "https://upload.wikimedia.org/wikipedia/commons/2/29/Flag_of_Eritrea.svg\n",
      "https://upload.wikimedia.org/wikipedia/commons/f/fe/Flag_of_Uruguay.svg\n",
      "https://upload.wikimedia.org/wikipedia/commons/4/4c/Flag_of_Mongolia.svg\n",
      "https://upload.wikimedia.org/wikipedia/commons/b/bf/Flag_of_Bosnia_and_Herzegovina.svg\n",
      "https://upload.wikimedia.org/wikipedia/commons/2/28/Flag_of_Puerto_Rico.svg\n",
      "https://upload.wikimedia.org/wikipedia/commons/2/2f/Flag_of_Armenia.svg\n",
      "https://upload.wikimedia.org/wikipedia/commons/3/36/Flag_of_Albania.svg\n",
      "https://upload.wikimedia.org/wikipedia/commons/6/65/Flag_of_Qatar.svg\n",
      "https://upload.wikimedia.org/wikipedia/commons/1/11/Flag_of_Lithuania.svg\n",
      "https://upload.wikimedia.org/wikipedia/commons/0/0a/Flag_of_Jamaica.svg\n",
      "https://upload.wikimedia.org/wikipedia/commons/2/27/Flag_of_Moldova.svg\n",
      "https://upload.wikimedia.org/wikipedia/commons/0/00/Flag_of_Namibia.svg\n",
      "https://upload.wikimedia.org/wikipedia/commons/7/77/Flag_of_The_Gambia.svg\n",
      "https://upload.wikimedia.org/wikipedia/commons/f/fa/Flag_of_Botswana.svg\n",
      "https://upload.wikimedia.org/wikipedia/commons/0/04/Flag_of_Gabon.svg\n",
      "https://upload.wikimedia.org/wikipedia/commons/4/4a/Flag_of_Lesotho.svg\n",
      "https://upload.wikimedia.org/wikipedia/commons/f/f0/Flag_of_Slovenia.svg\n",
      "https://upload.wikimedia.org/wikipedia/commons/8/84/Flag_of_Latvia.svg\n",
      "https://upload.wikimedia.org/wikipedia/commons/7/79/Flag_of_North_Macedonia.svg\n"
     ]
    }
   ],
   "source": [
    "flags2 = [get_svg_image(svg_URL) for svg_URL in svg_URLs[100:150]]\n",
    "RGBA_flags2 = [RGB_to_array(flag) for flag in flags2]"
   ]
  },
  {
   "cell_type": "code",
   "execution_count": 145,
   "metadata": {},
   "outputs": [
    {
     "name": "stdout",
     "output_type": "stream",
     "text": [
      "https://upload.wikimedia.org/wikipedia/commons/1/1f/Flag_of_Kosovo.svg\n",
      "https://upload.wikimedia.org/wikipedia/commons/0/01/Flag_of_Guinea-Bissau.svg\n",
      "https://upload.wikimedia.org/wikipedia/commons/3/31/Flag_of_Equatorial_Guinea.svg\n",
      "https://upload.wikimedia.org/wikipedia/commons/2/2c/Flag_of_Bahrain.svg\n",
      "https://upload.wikimedia.org/wikipedia/commons/6/64/Flag_of_Trinidad_and_Tobago.svg\n",
      "https://upload.wikimedia.org/wikipedia/commons/8/8f/Flag_of_Estonia.svg\n",
      "https://upload.wikimedia.org/wikipedia/commons/2/26/Flag_of_East_Timor.svg\n",
      "https://upload.wikimedia.org/wikipedia/commons/7/77/Flag_of_Mauritius.svg\n",
      "https://upload.wikimedia.org/wikipedia/commons/f/fb/Flag_of_Eswatini.svg\n",
      "https://upload.wikimedia.org/wikipedia/commons/3/34/Flag_of_Djibouti.svg\n",
      "https://upload.wikimedia.org/wikipedia/commons/b/ba/Flag_of_Fiji.svg\n",
      "https://upload.wikimedia.org/wikipedia/commons/d/d4/Flag_of_Cyprus.svg\n",
      "https://upload.wikimedia.org/wikipedia/commons/9/94/Flag_of_the_Comoros.svg\n",
      "https://upload.wikimedia.org/wikipedia/commons/9/91/Flag_of_Bhutan.svg\n",
      "https://upload.wikimedia.org/wikipedia/commons/9/99/Flag_of_Guyana.svg\n",
      "https://upload.wikimedia.org/wikipedia/commons/7/74/Flag_of_the_Solomon_Islands.svg\n",
      "https://upload.wikimedia.org/wikipedia/commons/6/63/Flag_of_Macau.svg\n",
      "https://upload.wikimedia.org/wikipedia/commons/d/da/Flag_of_Luxembourg.svg\n",
      "https://upload.wikimedia.org/wikipedia/commons/6/64/Flag_of_Montenegro.svg\n",
      "https://upload.wikimedia.org/wikipedia/commons/2/26/Flag_of_the_Sahrawi_Arab_Democratic_Republic.svg\n",
      "https://upload.wikimedia.org/wikipedia/commons/6/60/Flag_of_Suriname.svg\n",
      "https://upload.wikimedia.org/wikipedia/commons/3/38/Flag_of_Cape_Verde.svg\n",
      "https://upload.wikimedia.org/wikipedia/commons/7/73/Flag_of_Malta.svg\n",
      "https://upload.wikimedia.org/wikipedia/commons/e/e7/Flag_of_Belize.svg\n",
      "https://upload.wikimedia.org/wikipedia/commons/9/9c/Flag_of_Brunei.svg\n"
     ]
    }
   ],
   "source": [
    "flags3 = [get_svg_image(svg_URL) for svg_URL in svg_URLs[150:175]]\n",
    "RGBA_flags3 = [RGB_to_array(flag) for flag in flags3]"
   ]
  },
  {
   "cell_type": "code",
   "execution_count": 158,
   "metadata": {},
   "outputs": [
    {
     "name": "stdout",
     "output_type": "stream",
     "text": [
      "https://upload.wikimedia.org/wikipedia/commons/9/93/Flag_of_the_Bahamas.svg\n",
      "https://upload.wikimedia.org/wikipedia/commons/0/0f/Flag_of_Maldives.svg\n",
      "https://upload.wikimedia.org/wikipedia/commons/1/1e/Flag_of_the_Turkish_Republic_of_Northern_Cyprus.svg\n",
      "https://upload.wikimedia.org/wikipedia/commons/c/ce/Flag_of_Iceland.svg\n",
      "https://upload.wikimedia.org/wikipedia/commons/b/bc/Flag_of_Transnistria_%28state%29.svg\n",
      "https://upload.wikimedia.org/wikipedia/commons/b/bc/Flag_of_Vanuatu.svg\n",
      "https://upload.wikimedia.org/wikipedia/commons/e/ef/Flag_of_Barbados.svg\n",
      "https://upload.wikimedia.org/wikipedia/commons/d/db/Flag_of_French_Polynesia.svg\n",
      "https://upload.wikimedia.org/wikipedia/commons/4/43/New_Caledonia_flags_merged_%282017%29.svg\n"
     ]
    }
   ],
   "source": [
    "flags4 = [get_svg_image(svg_URL) for svg_URL in svg_URLs[175:184]]\n",
    "RGBA_flags4 = [RGB_to_array(flag) for flag in flags4]"
   ]
  },
  {
   "cell_type": "code",
   "execution_count": 159,
   "metadata": {},
   "outputs": [
    {
     "name": "stdout",
     "output_type": "stream",
     "text": [
      "https://upload.wikimedia.org/wikipedia/commons/7/7a/Flag_of_the_Republic_of_Abkhazia.svg\n",
      "https://upload.wikimedia.org/wikipedia/commons/4/4f/Flag_of_Sao_Tome_and_Principe.svg\n",
      "https://upload.wikimedia.org/wikipedia/commons/3/31/Flag_of_Samoa.svg\n",
      "https://upload.wikimedia.org/wikipedia/commons/9/9f/Flag_of_Saint_Lucia.svg\n",
      "https://upload.wikimedia.org/wikipedia/commons/0/07/Flag_of_Guam.svg\n",
      "https://upload.wikimedia.org/wikipedia/commons/b/b1/Flag_of_Cura%C3%A7ao.svg\n"
     ]
    }
   ],
   "source": [
    "flags5 = [get_svg_image(svg_URL) for svg_URL in svg_URLs[184:190]]\n",
    "RGBA_flags5 = [RGB_to_array(flag) for flag in flags5]"
   ]
  },
  {
   "cell_type": "code",
   "execution_count": 161,
   "metadata": {},
   "outputs": [
    {
     "name": "stdout",
     "output_type": "stream",
     "text": [
      "https://upload.wikimedia.org/wikipedia/commons/d/d3/Flag_of_Kiribati.svg\n",
      "https://upload.wikimedia.org/wikipedia/commons/b/bc/Flag_of_Grenada.svg\n",
      "https://upload.wikimedia.org/wikipedia/commons/f/f6/Flag_of_Aruba.svg\n",
      "https://upload.wikimedia.org/wikipedia/commons/6/6d/Flag_of_Saint_Vincent_and_the_Grenadines.svg\n",
      "https://upload.wikimedia.org/wikipedia/commons/1/1c/Flag_of_Jersey.svg\n",
      "https://upload.wikimedia.org/wikipedia/commons/e/e4/Flag_of_the_Federated_States_of_Micronesia.svg\n",
      "https://upload.wikimedia.org/wikipedia/commons/9/9a/Flag_of_Tonga.svg\n",
      "https://upload.wikimedia.org/wikipedia/commons/8/89/Flag_of_Antigua_and_Barbuda.svg\n",
      "https://upload.wikimedia.org/wikipedia/commons/f/fc/Flag_of_Seychelles.svg\n",
      "https://upload.wikimedia.org/wikipedia/commons/f/f8/Flag_of_the_United_States_Virgin_Islands.svg\n",
      "https://upload.wikimedia.org/wikipedia/commons/b/bc/Flag_of_the_Isle_of_Man.svg\n",
      "https://upload.wikimedia.org/wikipedia/commons/1/19/Flag_of_Andorra.svg\n",
      "https://upload.wikimedia.org/wikipedia/commons/c/c4/Flag_of_Dominica.svg\n",
      "https://upload.wikimedia.org/wikipedia/commons/0/0f/Flag_of_the_Cayman_Islands.svg\n",
      "https://upload.wikimedia.org/wikipedia/commons/b/bf/Flag_of_Bermuda.svg\n",
      "https://upload.wikimedia.org/wikipedia/commons/f/fa/Flag_of_Guernsey.svg\n",
      "https://upload.wikimedia.org/wikipedia/commons/0/09/Flag_of_Greenland.svg\n",
      "https://upload.wikimedia.org/wikipedia/commons/2/2e/Flag_of_the_Marshall_Islands.svg\n",
      "https://upload.wikimedia.org/wikipedia/commons/f/fe/Flag_of_Saint_Kitts_and_Nevis.svg\n",
      "https://upload.wikimedia.org/wikipedia/commons/3/3c/Flag_of_the_Faroe_Islands.svg\n",
      "https://upload.wikimedia.org/wikipedia/commons/1/12/Flag_of_South_Ossetia.svg\n",
      "https://upload.wikimedia.org/wikipedia/commons/8/87/Flag_of_American_Samoa.svg\n",
      "https://upload.wikimedia.org/wikipedia/commons/e/e0/Flag_of_the_Northern_Mariana_Islands.svg\n",
      "https://upload.wikimedia.org/wikipedia/commons/a/a0/Flag_of_the_Turks_and_Caicos_Islands.svg\n",
      "https://upload.wikimedia.org/wikipedia/commons/d/d3/Flag_of_Sint_Maarten.svg\n",
      "https://upload.wikimedia.org/wikipedia/commons/4/47/Flag_of_Liechtenstein.svg\n",
      "https://upload.wikimedia.org/wikipedia/commons/e/ea/Flag_of_Monaco.svg\n",
      "https://upload.wikimedia.org/wikipedia/commons/0/02/Flag_of_Gibraltar.svg\n",
      "https://upload.wikimedia.org/wikipedia/commons/b/b1/Flag_of_San_Marino.svg\n",
      "https://upload.wikimedia.org/wikipedia/en/c/c3/Flag_of_France.svg\n",
      "https://upload.wikimedia.org/wikipedia/commons/5/52/Flag_of_%C3%85land.svg\n",
      "https://upload.wikimedia.org/wikipedia/commons/4/42/Flag_of_the_British_Virgin_Islands.svg\n",
      "https://upload.wikimedia.org/wikipedia/commons/4/48/Flag_of_Palau.svg\n",
      "https://upload.wikimedia.org/wikipedia/commons/3/35/Flag_of_the_Cook_Islands.svg\n",
      "https://upload.wikimedia.org/wikipedia/commons/b/b4/Flag_of_Anguilla.svg\n",
      "https://upload.wikimedia.org/wikipedia/commons/3/30/Flag_of_Nauru.svg\n",
      "https://upload.wikimedia.org/wikipedia/en/c/c3/Flag_of_France.svg\n",
      "https://upload.wikimedia.org/wikipedia/commons/3/38/Flag_of_Tuvalu.svg\n",
      "https://upload.wikimedia.org/wikipedia/en/c/c3/Flag_of_France.svg\n",
      "https://upload.wikimedia.org/wikipedia/en/a/ae/Flag_of_the_United_Kingdom.svg\n",
      "https://upload.wikimedia.org/wikipedia/en/c/c3/Flag_of_France.svg\n",
      "https://upload.wikimedia.org/wikipedia/commons/d/d0/Flag_of_Montserrat.svg\n",
      "https://upload.wikimedia.org/wikipedia/commons/8/83/Flag_of_the_Falkland_Islands.svg\n",
      "https://upload.wikimedia.org/wikipedia/commons/6/67/Flag_of_Christmas_Island.svg\n",
      "https://upload.wikimedia.org/wikipedia/commons/4/48/Flag_of_Norfolk_Island.svg\n",
      "https://upload.wikimedia.org/wikipedia/commons/0/01/Flag_of_Niue.svg\n",
      "https://upload.wikimedia.org/wikipedia/commons/8/8e/Flag_of_Tokelau.svg\n",
      "https://upload.wikimedia.org/wikipedia/commons/0/00/Flag_of_the_Vatican_City.svg\n",
      "https://upload.wikimedia.org/wikipedia/commons/7/74/Flag_of_the_Cocos_%28Keeling%29_Islands.svg\n",
      "https://upload.wikimedia.org/wikipedia/commons/8/88/Flag_of_the_Pitcairn_Islands.svg\n"
     ]
    }
   ],
   "source": [
    "flags6 = [get_svg_image(svg_URL) for svg_URL in svg_URLs[191:]]\n",
    "RGBA_flags6 = [RGB_to_array(flag) for flag in flags6]"
   ]
  },
  {
   "cell_type": "code",
   "execution_count": 164,
   "metadata": {},
   "outputs": [
    {
     "name": "stdout",
     "output_type": "stream",
     "text": [
      "https://upload.wikimedia.org/wikipedia/commons/3/3d/Flag_of_Artsakh.svg\n"
     ]
    }
   ],
   "source": [
    "artsakg = RGB_to_array(get_svg_image(svg_URLs[190]))"
   ]
  },
  {
   "cell_type": "code",
   "execution_count": 165,
   "metadata": {},
   "outputs": [],
   "source": [
    "import pickle\n",
    "with open('RGBA_flags.pkl', 'wb') as f:\n",
    "    pickle.dump([*RGBA_flags1, *RGBA_flags2, *RGBA_flags3, *RGBA_flags4, *RGBA_flags5, artsakg, *RGBA_flags6], f)"
   ]
  },
  {
   "cell_type": "markdown",
   "metadata": {},
   "source": [
    "### Calculate average wavelength"
   ]
  },
  {
   "cell_type": "code",
   "execution_count": 22,
   "metadata": {},
   "outputs": [],
   "source": [
    "def get_average_wavelength(RGB_color):\n",
    "    mean_color = np.mean(np.mean(RGB_color, axis=1), axis=0)\n",
    "    hue = colorsys.rgb_to_hls(mean_color[0], mean_color[1], mean_color[2])\n",
    "    wavelength = 620 - 170 * hue[0]\n",
    "    return wavelength"
   ]
  },
  {
   "cell_type": "code",
   "execution_count": 23,
   "metadata": {},
   "outputs": [],
   "source": [
    "def get_median_wavelength(RGB_color):\n",
    "    \"\"\"\n",
    "    TODO: Function which returns most used color or something\n",
    "    \"\"\""
   ]
  },
  {
   "cell_type": "code",
   "execution_count": 24,
   "metadata": {},
   "outputs": [],
   "source": [
    "wavelengths = [get_average_wavelength(RGB_color) for RGB_color in RGB_colors]"
   ]
  },
  {
   "cell_type": "code",
   "execution_count": 95,
   "metadata": {},
   "outputs": [],
   "source": [
    "data_set = np.c_[names, continents, populations, wavelengths]\n",
    "import pickle\n",
    "with open('dataset.pkl', 'wb') as f:\n",
    "    pickle.dump(data_set, f)"
   ]
  },
  {
   "cell_type": "code",
   "execution_count": 26,
   "metadata": {},
   "outputs": [],
   "source": [
    "wavelengths_asia = [float(x[3]) for x in data_set if x[1] == 'Asia']\n",
    "wavelengths_europe = [float(x[3]) for x in data_set if x[1] == 'Europe']\n",
    "wavelengths_americas = [float(x[3]) for x in data_set if x[1] == 'Americas']\n",
    "wavelengths_africa = [float(x[3]) for x in data_set if x[1] == 'Africa']\n",
    "wavelengths_oceania = [float(x[3]) for x in data_set if x[1] == 'Oceania']"
   ]
  },
  {
   "cell_type": "markdown",
   "metadata": {},
   "source": [
    "### Average flag colors"
   ]
  },
  {
   "cell_type": "code",
   "execution_count": 27,
   "metadata": {},
   "outputs": [
    {
     "data": {
      "text/plain": [
       "<AxesSubplot:ylabel='Density'>"
      ]
     },
     "execution_count": 27,
     "metadata": {},
     "output_type": "execute_result"
    },
    {
     "data": {
      "image/png": "[encoded data removed]",
      "text/plain": [
       "<Figure size 432x288 with 1 Axes>"
      ]
     },
     "metadata": {
      "needs_background": "light"
     },
     "output_type": "display_data"
    }
   ],
   "source": [
    "sns.kdeplot(\n",
    "   data=[wavelengths_asia, wavelengths_europe, wavelengths_americas, wavelengths_africa, wavelengths_oceania],#, x=\"total_bill\", hue=\"size\",\n",
    "   fill=True, common_norm=False, palette=\"crest\",\n",
    "   alpha=0.3, linewidth=0.0, bw_method=0.2,\n",
    "   legend=False\n",
    ")"
   ]
  },
  {
   "cell_type": "markdown",
   "metadata": {},
   "source": [
    "### Check Benford's law"
   ]
  },
  {
   "cell_type": "code",
   "execution_count": 28,
   "metadata": {},
   "outputs": [
    {
     "data": {
      "text/plain": [
       "<AxesSubplot:ylabel='Count'>"
      ]
     },
     "execution_count": 28,
     "metadata": {},
     "output_type": "execute_result"
    },
    {
     "data": {
      "image/png": "[encoded data removed]",
      "text/plain": [
       "<Figure size 432x288 with 1 Axes>"
      ]
     },
     "metadata": {
      "needs_background": "light"
     },
     "output_type": "display_data"
    }
   ],
   "source": [
    "last_digits = [int(x[-1]) for x in populations]\n",
    "sns.histplot(\n",
    "   last_digits, bins=range(10),palette=\"crest\",\n",
    "   alpha=0.7, linewidth=0.5\n",
    ")"
   ]
  },
  {
   "cell_type": "code",
   "execution_count": 29,
   "metadata": {},
   "outputs": [],
   "source": [
    "def extract_info(entry, start, end, included=True):\n",
    "    src = str(entry)\n",
    "    pos_start = src.find(start) + 0 if included else len(start)\n",
    "    pos_end = src.find(end) + len(end) if included else 0\n",
    "    return src[pos_start:pos_end]"
   ]
  },
  {
   "cell_type": "code",
   "execution_count": 37,
   "metadata": {},
   "outputs": [
    {
     "name": "stdout",
     "output_type": "stream",
     "text": [
      "207\n"
     ]
    },
    {
     "data": {
      "text/plain": [
       "array(['Abkhazia', 'Afghanistan', 'Albania', 'Algeria', 'American Samoa',\n",
       "       'Andorra', 'Angola', 'Anguilla', 'Antigua and Barbuda',\n",
       "       'Argentina', 'Armenia', 'Aruba', 'Australia', 'Austria',\n",
       "       'Azerbaijan', 'Bahamas', 'Bahrain', 'Bangladesh', 'Barbados',\n",
       "       'Belarus', 'Belgium', 'Belize', 'Benin', 'Bermuda', 'Bhutan',\n",
       "       'Bolivia', 'Bosnia and Herzegovina', 'Botswana', 'Brazil',\n",
       "       'British Virgin Islands', 'Brunei', 'Bulgaria', 'Burkina Faso',\n",
       "       'Burundi', 'Cambodia', 'Cameroon', 'Canada', 'Cape Verde',\n",
       "       'Cayman Islands', 'Central African Republic', 'Chad', 'Chile',\n",
       "       'China', 'Christmas Island', 'Cocos (Keeling) Islands', 'Colombia',\n",
       "       'Comoros', 'Congo', 'Cook Islands', 'Costa Rica', 'Croatia',\n",
       "       'Cuba', 'Curaçao', 'Cyprus', 'Czech Republic', 'DR Congo',\n",
       "       'Denmark', 'Djibouti', 'Dominica', 'Dominican Republic',\n",
       "       'East Timor', 'Ecuador', 'Egypt', 'El Salvador',\n",
       "       'Equatorial Guinea', 'Eritrea', 'Estonia', 'Eswatini', 'Ethiopia',\n",
       "       'Falkland Islands', 'Faroe Islands', 'Fiji', 'Finland', 'France',\n",
       "       'French Polynesia', 'Gabon', 'Gambia', 'Georgia', 'Germany',\n",
       "       'Ghana', 'Gibraltar', 'Greece', 'Greenland', 'Grenada', 'Guam',\n",
       "       'Guatemala', 'Guernsey', 'Guinea', 'Guinea-Bissau', 'Guyana',\n",
       "       'Haiti', 'Honduras', 'Hong Kong', 'Hungary', 'Iceland', 'India',\n",
       "       'Indonesia', 'Iran', 'Iraq', 'Ireland', 'Isle of Man', 'Israel',\n",
       "       'Italy', 'Ivory Coast', 'Jamaica', 'Japan', 'Jersey', 'Jordan',\n",
       "       'Kazakhstan', 'Kenya', 'Kiribati', 'Kosovo', 'Kuwait',\n",
       "       'Kyrgyzstan', 'Laos', 'Latvia', 'Lebanon', 'Lesotho', 'Liberia',\n",
       "       'Libya', 'Liechtenstein', 'Lithuania', 'Luxembourg', 'Macau',\n",
       "       'Madagascar', 'Malawi', 'Malaysia', 'Maldives', 'Mali', 'Malta',\n",
       "       'Marshall Islands', 'Mauritania', 'Mauritius', 'Mexico',\n",
       "       'Micronesia', 'Moldova', 'Monaco', 'Mongolia', 'Montenegro',\n",
       "       'Montserrat', 'Morocco', 'Mozambique', 'Myanmar', 'Namibia',\n",
       "       'Nauru', 'Nepal', 'Netherlands', 'New Caledonia', 'New Zealand',\n",
       "       'Nicaragua', 'Niger', 'Nigeria', 'Niue', 'Norfolk Island',\n",
       "       'North Korea', 'North Macedonia', 'Northern Cyprus',\n",
       "       'Northern Mariana Islands', 'Norway', 'Oman', 'Pakistan', 'Palau',\n",
       "       'Palestine', 'Panama', 'Papua New Guinea', 'Paraguay', 'Peru',\n",
       "       'Philippines', 'Pitcairn Islands', 'Poland', 'Portugal',\n",
       "       'Puerto Rico', 'Qatar', 'Republic of Artsakh', 'Romania', 'Russia',\n",
       "       'Rwanda', 'Saint Barthélemy',\n",
       "       'Saint Helena, Ascension and Tristan da Cunha',\n",
       "       'Saint Kitts and Nevis', 'Saint Lucia', 'Saint Martin',\n",
       "       'Saint Pierre and Miquelon', 'Saint Vincent and the Grenadines',\n",
       "       'Samoa', 'San Marino', 'Saudi Arabia', 'Senegal', 'Serbia',\n",
       "       'Seychelles', 'Sierra Leone', 'Singapore', 'Sint Maarten',\n",
       "       'Slovakia', 'Slovenia', 'Solomon Islands', 'Somalia',\n",
       "       'South Africa', 'South Korea', 'South Ossetia', 'South Sudan',\n",
       "       'Spain', 'Sri Lanka', 'Sudan', 'Suriname', 'Sweden', 'Switzerland',\n",
       "       'Syria', 'São Tomé and Príncipe', 'Taiwan', 'Tajikistan',\n",
       "       'Tanzania', 'Thailand', 'Togo', 'Tokelau', 'Tonga', 'Transnistria',\n",
       "       'Trinidad and Tobago', 'Tunisia', 'Turkey', 'Turkmenistan',\n",
       "       'Turks and Caicos Islands', 'Tuvalu', 'U.S. Virgin Islands',\n",
       "       'Uganda', 'Ukraine', 'United Arab Emirates', 'United Kingdom',\n",
       "       'United States', 'Uruguay', 'Uzbekistan', 'Vanuatu',\n",
       "       'Vatican City', 'Venezuela', 'Vietnam', 'Wallis and Futuna',\n",
       "       'Western Sahara', 'Yemen', 'Zambia', 'Zimbabwe', 'Åland'],\n",
       "      dtype='<U44')"
      ]
     },
     "execution_count": 37,
     "metadata": {},
     "output_type": "execute_result"
    }
   ],
   "source": [
    "URL = 'https://en.wikipedia.org/wiki/Gallery_of_sovereign_state_flags'\n",
    "page = requests.get(URL)\n",
    "soup = BeautifulSoup(page.content, 'html.parser')\n",
    "\n",
    "entries = soup.find_all('li', class_='gallerybox')\n",
    "flag_links = ['https:' + extract_info(entry, '//upload.wikimedia.org/', '.svg.png') for entry in entries]\n",
    "print(len(flag_links))\n",
    "#extract_info(sources[0], '\">\"', '</a>', included=False)\n",
    "np.sort(names)"
   ]
  }
 ],
 "metadata": {
  "interpreter": {
   "hash": "fb487646d2ff43bdda56d3757f53914077f9958e378e2f12b27b72e0e80564a5"
  },
  "kernelspec": {
   "display_name": "Python 3.8.8 ('base')",
   "language": "python",
   "name": "python3"
  },
  "language_info": {
   "codemirror_mode": {
    "name": "ipython",
    "version": 3
   },
   "file_extension": ".py",
   "mimetype": "text/x-python",
   "name": "python",
   "nbconvert_exporter": "python",
   "pygments_lexer": "ipython3",
   "version": "3.8.12"
  },
  "orig_nbformat": 4
 },
 "nbformat": 4,
 "nbformat_minor": 2
}
