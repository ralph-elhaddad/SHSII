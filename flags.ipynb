{
 "cells": [
  {
   "cell_type": "markdown",
   "metadata": {},
   "source": [
    "## Country flags"
   ]
  },
  {
   "cell_type": "markdown",
   "metadata": {},
   "source": [
    "### Import packages"
   ]
  },
  {
   "cell_type": "code",
   "execution_count": 1,
   "metadata": {},
   "outputs": [],
   "source": [
    "import numpy as np\n",
    "\n",
    "import requests\n",
    "from bs4 import BeautifulSoup\n",
    "from PIL import Image\n",
    "from io import BytesIO\n",
    "\n",
    "import matplotlib.pyplot as plt\n",
    "import seaborn as sns\n",
    "import colorsys"
   ]
  },
  {
   "cell_type": "markdown",
   "metadata": {},
   "source": [
    "### Scrape image sources from wikipedia article"
   ]
  },
  {
   "cell_type": "code",
   "execution_count": 2,
   "metadata": {},
   "outputs": [
    {
     "data": {
      "text/plain": [
       "<img alt=\"\" class=\"thumbborder\" data-file-height=\"900\" data-file-width=\"1350\" decoding=\"async\" height=\"15\" src=\"//upload.wikimedia.org/wikipedia/en/thumb/4/41/Flag_of_India.svg/23px-Flag_of_India.svg.png\" srcset=\"//upload.wikimedia.org/wikipedia/en/thumb/4/41/Flag_of_India.svg/35px-Flag_of_India.svg.png 1.5x, //upload.wikimedia.org/wikipedia/en/thumb/4/41/Flag_of_India.svg/45px-Flag_of_India.svg.png 2x\" width=\"23\"/>"
      ]
     },
     "execution_count": 2,
     "metadata": {},
     "output_type": "execute_result"
    }
   ],
   "source": [
    "URL = 'https://en.wikipedia.org/wiki/List_of_countries_and_dependencies_by_population'\n",
    "page = requests.get(URL)\n",
    "soup = BeautifulSoup(page.content, 'html.parser')\n",
    "\n",
    "sources = soup.find_all('img', class_='thumbborder')\n",
    "sources[1]"
   ]
  },
  {
   "cell_type": "code",
   "execution_count": 156,
   "metadata": {},
   "outputs": [
    {
     "data": {
      "text/plain": [
       "<td style=\"text-align:right\">271,350,000</td>"
      ]
     },
     "execution_count": 156,
     "metadata": {},
     "output_type": "execute_result"
    }
   ],
   "source": [
    "sources = soup.find_all('tbody')\n",
    "entries = sources[0].find_all('tr')[2:]\n",
    "entry = entries[3]\n",
    "\n"
   ]
  },
  {
   "cell_type": "markdown",
   "metadata": {},
   "source": [
    "### Extract the country information from the scraped source data"
   ]
  },
  {
   "cell_type": "code",
   "execution_count": 131,
   "metadata": {},
   "outputs": [],
   "source": [
    "def get_flag_url(source):\n",
    "    src = str(source)\n",
    "    pos_start = src.find(\"upload.wikimedia.org/\")\n",
    "    pos_end = src.find(\".svg.png\")\n",
    "    url = 'https://' + src[pos_start:pos_end+len(\".svg.png\")]\n",
    "    return url"
   ]
  },
  {
   "cell_type": "code",
   "execution_count": 125,
   "metadata": {},
   "outputs": [],
   "source": [
    "def get_country_name(entry):\n",
    "    useables = entry.find_all('td')[0:3]\n",
    "    country_info = useables[0].find_all('a')\n",
    "    src = str(country_info)\n",
    "    pos_start = src.find('\">') + 2\n",
    "    pos_end = src.find('</a>')\n",
    "    return src[pos_start:pos_end]"
   ]
  },
  {
   "cell_type": "code",
   "execution_count": 144,
   "metadata": {},
   "outputs": [],
   "source": [
    "def get_continent(entry):\n",
    "    useables = entry.find_all('td')[0:3]\n",
    "    src = str(useables)\n",
    "    continents = ['Asia', 'Europe', 'Americas', 'Africa', 'Oceania']\n",
    "    for continent in continents:\n",
    "        if continent in src:\n",
    "            return continent"
   ]
  },
  {
   "cell_type": "code",
   "execution_count": 157,
   "metadata": {},
   "outputs": [],
   "source": [
    "def get_population(entry):\n",
    "    useables = entry.find_all('td')[0:3]\n",
    "    population_info = useables[2]\n",
    "    src = str(population_info)\n",
    "    pos_start = src.find('\">') + 2\n",
    "    pos_end = src.find('</td>')\n",
    "    return src[pos_start:pos_end]"
   ]
  },
  {
   "cell_type": "markdown",
   "metadata": {},
   "source": [
    "Extracting important information from the data"
   ]
  },
  {
   "cell_type": "code",
   "execution_count": 174,
   "metadata": {},
   "outputs": [],
   "source": [
    "names = [get_country_name(entry) for entry in entries]\n",
    "continents = [get_continent(entry) for entry in entries]\n",
    "populations = [get_population(entry) for entry in entries]\n",
    "URLs = [get_flag_url(entry) for entry in entries]"
   ]
  },
  {
   "cell_type": "markdown",
   "metadata": {},
   "source": [
    "Quickly verifying correctness of scraped data"
   ]
  },
  {
   "cell_type": "code",
   "execution_count": 176,
   "metadata": {},
   "outputs": [
    {
     "name": "stdout",
     "output_type": "stream",
     "text": [
      "241 241 241 241\n",
      "China Asia 1,412,600,000\n",
      "Italy Europe 59,045,521\n",
      "Nepal Asia 29,192,480\n",
      "Zimbabwe Africa 15,790,716\n",
      "Belarus Europe 9,349,645\n",
      "Palestine Asia 5,227,193\n",
      "Botswana Africa 2,410,338\n",
      "Montenegro Europe 621,306\n",
      "Grenada Americas 113,000\n",
      "Liechtenstein Europe 39,151\n"
     ]
    }
   ],
   "source": [
    "print(len(names), len(continents), len(populations), len(URLs))\n",
    "for i in 24*np.arange(10):\n",
    "    print(names[i], continents[i], populations[i])"
   ]
  },
  {
   "cell_type": "markdown",
   "metadata": {},
   "source": [
    "### Read the images from the URLs and convert them to RGB scale"
   ]
  },
  {
   "cell_type": "code",
   "execution_count": 5,
   "metadata": {},
   "outputs": [],
   "source": [
    "def get_RGB_colors_from_url(URL):\n",
    "    response = requests.get(URL)\n",
    "    img = Image.open(BytesIO(response.content))\n",
    "    RGB_image = img.convert('RGB')\n",
    "    width, height = RGB_image.size\n",
    "    RGB_color = np.empty((width, height, 3))\n",
    "    for i in range(width):\n",
    "        for j in range(height):\n",
    "            RGB_color[i, j, :] = RGB_image.getpixel((i, j))\n",
    "    return RGB_color"
   ]
  },
  {
   "cell_type": "code",
   "execution_count": 6,
   "metadata": {},
   "outputs": [
    {
     "name": "stderr",
     "output_type": "stream",
     "text": [
      "C:\\Users\\Fabio\\Anaconda3\\lib\\site-packages\\PIL\\Image.py:962: UserWarning: Palette images with Transparency expressed in bytes should be converted to RGBA images\n",
      "  warnings.warn(\n"
     ]
    }
   ],
   "source": [
    "RGB_colors = [get_RGB_colors_from_url(URL) for URL in URLs]"
   ]
  },
  {
   "cell_type": "markdown",
   "metadata": {},
   "source": [
    "### Calculate average wavelength"
   ]
  },
  {
   "cell_type": "code",
   "execution_count": 7,
   "metadata": {},
   "outputs": [],
   "source": [
    "def get_average_wavelength(RGB_color):\n",
    "    mean_color = np.mean(np.mean(RGB_color, axis=1), axis=0)\n",
    "    hue = colorsys.rgb_to_hls(mean_color[0], mean_color[1], mean_color[2])\n",
    "    wavelength = 620 - 170 * hue[0]\n",
    "    return wavelength"
   ]
  },
  {
   "cell_type": "code",
   "execution_count": 282,
   "metadata": {},
   "outputs": [],
   "source": [
    "def get_median_wavelength(RGB_color):\n",
    "    \"\"\"\n",
    "    TODO: Function which returns most used color or something\n",
    "    \"\"\""
   ]
  },
  {
   "cell_type": "code",
   "execution_count": 195,
   "metadata": {},
   "outputs": [],
   "source": [
    "wavelengths = [get_average_wavelength(RGB_color) for RGB_color in RGB_colors]"
   ]
  },
  {
   "cell_type": "code",
   "execution_count": 198,
   "metadata": {},
   "outputs": [],
   "source": [
    "data_set = np.c_[names, continents, populations, wavelengths]"
   ]
  },
  {
   "cell_type": "code",
   "execution_count": 224,
   "metadata": {},
   "outputs": [],
   "source": [
    "wavelengths_asia = [float(x[3]) for x in data_set if x[1] == 'Asia']\n",
    "wavelengths_europe = [float(x[3]) for x in data_set if x[1] == 'Europe']\n",
    "wavelengths_americas = [float(x[3]) for x in data_set if x[1] == 'Americas']\n",
    "wavelengths_africa = [float(x[3]) for x in data_set if x[1] == 'Africa']\n",
    "wavelengths_oceania = [float(x[3]) for x in data_set if x[1] == 'Oceania']"
   ]
  },
  {
   "cell_type": "markdown",
   "metadata": {},
   "source": [
    "### Average flag colors"
   ]
  },
  {
   "cell_type": "code",
   "execution_count": 289,
   "metadata": {},
   "outputs": [
    {
     "data": {
      "text/plain": [
       "<AxesSubplot:ylabel='Density'>"
      ]
     },
     "execution_count": 289,
     "metadata": {},
     "output_type": "execute_result"
    },
    {
     "data": {
      "image/png": "[encoded data removed]",
      "text/plain": [
       "<Figure size 432x288 with 1 Axes>"
      ]
     },
     "metadata": {
      "needs_background": "light"
     },
     "output_type": "display_data"
    }
   ],
   "source": [
    "sns.kdeplot(\n",
    "   data=[wavelengths_asia, wavelengths_europe, wavelengths_americas, wavelengths_africa, wavelengths_oceania],#, x=\"total_bill\", hue=\"size\",\n",
    "   fill=True, common_norm=False, palette=\"crest\",\n",
    "   alpha=0.3, linewidth=0.0, bw_method=0.2,\n",
    "   legend=False\n",
    ")"
   ]
  },
  {
   "cell_type": "markdown",
   "metadata": {},
   "source": [
    "### Check Benford's law"
   ]
  },
  {
   "cell_type": "code",
   "execution_count": 281,
   "metadata": {},
   "outputs": [
    {
     "data": {
      "text/plain": [
       "<AxesSubplot:ylabel='Count'>"
      ]
     },
     "execution_count": 281,
     "metadata": {},
     "output_type": "execute_result"
    },
    {
     "data": {
      "image/png": "[encoded data removed]",
      "text/plain": [
       "<Figure size 432x288 with 1 Axes>"
      ]
     },
     "metadata": {
      "needs_background": "light"
     },
     "output_type": "display_data"
    }
   ],
   "source": [
    "last_digits = [int(x[-1]) for x in populations]\n",
    "sns.histplot(\n",
    "   last_digits, bins=range(10),palette=\"crest\",\n",
    "   alpha=0.7, linewidth=0.5\n",
    ")"
   ]
  },
  {
   "cell_type": "code",
   "execution_count": null,
   "metadata": {},
   "outputs": [],
   "source": []
  }
 ],
 "metadata": {
  "interpreter": {
   "hash": "fb487646d2ff43bdda56d3757f53914077f9958e378e2f12b27b72e0e80564a5"
  },
  "kernelspec": {
   "display_name": "Python 3.8.8 ('base')",
   "language": "python",
   "name": "python3"
  },
  "language_info": {
   "codemirror_mode": {
    "name": "ipython",
    "version": 3
   },
   "file_extension": ".py",
   "mimetype": "text/x-python",
   "name": "python",
   "nbconvert_exporter": "python",
   "pygments_lexer": "ipython3",
   "version": "3.8.8"
  },
  "orig_nbformat": 4
 },
 "nbformat": 4,
 "nbformat_minor": 2
}
